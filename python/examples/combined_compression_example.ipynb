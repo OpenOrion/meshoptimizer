{
 "cells": [
  {
   "cell_type": "markdown",
   "metadata": {},
   "source": [
    "# Combined Compression Example\n",
    "\n",
    "This notebook demonstrates how to use both mesh encoding and array compression features together.\n",
    "\n",
    "We'll cover:\n",
    "\n",
    "1. Creating a mesh with vertex attributes (positions, normals, colors)\n",
    "2. Compressing the mesh and additional arrays\n",
    "3. Saving everything to a single zip file\n",
    "4. Loading and reconstructing the data"
   ]
  },
  {
   "cell_type": "code",
   "execution_count": 1,
   "metadata": {},
   "outputs": [],
   "source": [
    "import os\n",
    "import numpy as np\n",
    "import zipfile\n",
    "import json\n",
    "\n",
    "from meshoptimizer import (\n",
    "    Mesh,\n",
    "    encode_mesh,\n",
    "    decode_mesh,\n",
    "    encode_array,\n",
    "    decode_array,\n",
    "    save_encoded_mesh_to_zip,\n",
    "    load_encoded_mesh_from_zip,\n",
    "    save_array_to_zip,\n",
    "    load_array_from_zip,\n",
    "    save_arrays_to_zip,\n",
    "    load_arrays_from_zip\n",
    ")"
   ]
  },
  {
   "cell_type": "markdown",
   "metadata": {},
   "source": [
    "## Creating a Mesh with Attributes\n",
    "\n",
    "Let's create a simple mesh (a cube) with vertex positions, normals, and colors:"
   ]
  },
  {
   "cell_type": "code",
   "execution_count": 2,
   "metadata": {},
   "outputs": [
    {
     "name": "stdout",
     "output_type": "stream",
     "text": [
      "Created mesh with 8 vertices and 36 indices\n",
      "Normals shape: (8, 3)\n",
      "Colors shape: (8, 4)\n"
     ]
    }
   ],
   "source": [
    "# Create vertex positions (a cube)\n",
    "positions = np.array([\n",
    "    # positions          \n",
    "    [-0.5, -0.5, -0.5],\n",
    "    [0.5, -0.5, -0.5],\n",
    "    [0.5, 0.5, -0.5],\n",
    "    [-0.5, 0.5, -0.5],\n",
    "    [-0.5, -0.5, 0.5],\n",
    "    [0.5, -0.5, 0.5],\n",
    "    [0.5, 0.5, 0.5],\n",
    "    [-0.5, 0.5, 0.5]\n",
    "], dtype=np.float32)\n",
    "\n",
    "# Create indices\n",
    "indices = np.array([\n",
    "    0, 1, 2, 2, 3, 0,  # front\n",
    "    1, 5, 6, 6, 2, 1,  # right\n",
    "    5, 4, 7, 7, 6, 5,  # back\n",
    "    4, 0, 3, 3, 7, 4,  # left\n",
    "    3, 2, 6, 6, 7, 3,  # top\n",
    "    4, 5, 1, 1, 0, 4   # bottom\n",
    "], dtype=np.uint32)\n",
    "\n",
    "# Create normals (simplified - just using position as normal)\n",
    "normals = np.array([\n",
    "    [-1, -1, -1],\n",
    "    [1, -1, -1],\n",
    "    [1, 1, -1],\n",
    "    [-1, 1, -1],\n",
    "    [-1, -1, 1],\n",
    "    [1, -1, 1],\n",
    "    [1, 1, 1],\n",
    "    [-1, 1, 1]\n",
    "], dtype=np.float32)\n",
    "# Normalize the normals\n",
    "normals = normals / np.linalg.norm(normals, axis=1, keepdims=True)\n",
    "\n",
    "# Create colors (one for each vertex)\n",
    "colors = np.array([\n",
    "    [1, 0, 0, 1],  # red\n",
    "    [0, 1, 0, 1],  # green\n",
    "    [0, 0, 1, 1],  # blue\n",
    "    [1, 1, 0, 1],  # yellow\n",
    "    [1, 0, 1, 1],  # magenta\n",
    "    [0, 1, 1, 1],  # cyan\n",
    "    [1, 1, 1, 1],  # white\n",
    "    [0.5, 0.5, 0.5, 1]  # gray\n",
    "], dtype=np.float32)\n",
    "\n",
    "# Create a Mesh object with positions and indices\n",
    "mesh = Mesh(positions, indices)\n",
    "print(f\"Created mesh with {len(positions)} vertices and {len(indices)} indices\")\n",
    "print(f\"Normals shape: {normals.shape}\")\n",
    "print(f\"Colors shape: {colors.shape}\")"
   ]
  },
  {
   "cell_type": "markdown",
   "metadata": {},
   "source": [
    "## Additional Data\n",
    "\n",
    "Let's also create some additional data that might be associated with the mesh:"
   ]
  },
  {
   "cell_type": "code",
   "execution_count": 3,
   "metadata": {},
   "outputs": [
    {
     "name": "stdout",
     "output_type": "stream",
     "text": [
      "Texture coordinates shape: (8, 2)\n",
      "Bone weights shape: (8, 4)\n"
     ]
    }
   ],
   "source": [
    "# Create texture coordinates\n",
    "texcoords = np.array([\n",
    "    [0, 0],\n",
    "    [1, 0],\n",
    "    [1, 1],\n",
    "    [0, 1],\n",
    "    [0, 0],\n",
    "    [1, 0],\n",
    "    [1, 1],\n",
    "    [0, 1]\n",
    "], dtype=np.float32)\n",
    "\n",
    "# Create some animation data (e.g., bone weights)\n",
    "bone_weights = np.random.random((8, 4)).astype(np.float32)\n",
    "# Normalize weights to sum to 1\n",
    "bone_weights = bone_weights / bone_weights.sum(axis=1, keepdims=True)\n",
    "\n",
    "# Create some metadata\n",
    "metadata = {\n",
    "    \"name\": \"Cube\",\n",
    "    \"material\": \"Default\",\n",
    "    \"tags\": [\"example\", \"cube\", \"simple\"]\n",
    "}\n",
    "\n",
    "print(f\"Texture coordinates shape: {texcoords.shape}\")\n",
    "print(f\"Bone weights shape: {bone_weights.shape}\")"
   ]
  },
  {
   "cell_type": "markdown",
   "metadata": {},
   "source": [
    "## Compressing and Saving Everything\n",
    "\n",
    "Now let's compress all the data and save it to a single zip file:"
   ]
  },
  {
   "cell_type": "code",
   "execution_count": 4,
   "metadata": {},
   "outputs": [
    {
     "name": "stdout",
     "output_type": "stream",
     "text": [
      "Encoded mesh: vertex buffer size = 65 bytes, index buffer size = 37 bytes\n",
      "Encoded normals size: 56 bytes\n",
      "Encoded colors size: 83 bytes\n",
      "Encoded texcoords size: 67 bytes\n",
      "Encoded bone weights size: 143 bytes\n"
     ]
    }
   ],
   "source": [
    "# Encode the mesh (positions and indices)\n",
    "encoded_mesh = encode_mesh(positions, indices)\n",
    "print(f\"Encoded mesh: vertex buffer size = {len(encoded_mesh.vertices)} bytes, \"\n",
    "      f\"index buffer size = {len(encoded_mesh.indices)} bytes\")\n",
    "\n",
    "# Encode the additional arrays\n",
    "encoded_normals = encode_array(normals)\n",
    "encoded_colors = encode_array(colors)\n",
    "encoded_texcoords = encode_array(texcoords)\n",
    "encoded_bone_weights = encode_array(bone_weights)\n",
    "\n",
    "print(f\"Encoded normals size: {len(encoded_normals.data)} bytes\")\n",
    "print(f\"Encoded colors size: {len(encoded_colors.data)} bytes\")\n",
    "print(f\"Encoded texcoords size: {len(encoded_texcoords.data)} bytes\")\n",
    "print(f\"Encoded bone weights size: {len(encoded_bone_weights.data)} bytes\")"
   ]
  },
  {
   "cell_type": "markdown",
   "metadata": {},
   "source": [
    "Now let's save everything to a single zip file:"
   ]
  },
  {
   "cell_type": "code",
   "execution_count": 5,
   "metadata": {},
   "outputs": [
    {
     "name": "stdout",
     "output_type": "stream",
     "text": [
      "Saved all data to combined_data.zip\n",
      "Zip file size: 1542 bytes\n",
      "Total original data size: 656 bytes\n",
      "Compression ratio: 2.35\n"
     ]
    }
   ],
   "source": [
    "# Create a zip file\n",
    "zip_path = \"combined_data.zip\"\n",
    "\n",
    "# Create a dictionary of encoded arrays\n",
    "encoded_arrays = {\n",
    "    \"normals\": encoded_normals,\n",
    "    \"colors\": encoded_colors,\n",
    "    \"texcoords\": encoded_texcoords,\n",
    "    \"bone_weights\": encoded_bone_weights\n",
    "}\n",
    "\n",
    "# Use the new utility function to save everything to a zip file\n",
    "from meshoptimizer.ziputils import save_combined_data_to_zip\n",
    "\n",
    "try:\n",
    "    save_combined_data_to_zip(\n",
    "        encoded_mesh=encoded_mesh,\n",
    "        encoded_arrays=encoded_arrays,\n",
    "        metadata=metadata,\n",
    "        zip_path=zip_path\n",
    "    )\n",
    "    print(f\"Saved all data to {zip_path}\")\n",
    "    print(f\"Zip file size: {os.path.getsize(zip_path)} bytes\")\n",
    "    \n",
    "    # Calculate total size of all original data\n",
    "    total_size = (\n",
    "        positions.nbytes + \n",
    "        indices.nbytes + \n",
    "        normals.nbytes + \n",
    "        colors.nbytes + \n",
    "        texcoords.nbytes + \n",
    "        bone_weights.nbytes\n",
    "    )\n",
    "    print(f\"Total original data size: {total_size} bytes\")\n",
    "    print(f\"Compression ratio: {os.path.getsize(zip_path) / total_size:.2f}\")\n",
    "except Exception as e:\n",
    "    print(f\"Error saving data: {str(e)}\")"
   ]
  },
  {
   "cell_type": "markdown",
   "metadata": {},
   "source": [
    "## Loading and Reconstructing the Data\n",
    "\n",
    "Now let's load the data from the zip file and reconstruct everything:"
   ]
  },
  {
   "cell_type": "code",
   "execution_count": 6,
   "metadata": {},
   "outputs": [
    {
     "name": "stdout",
     "output_type": "stream",
     "text": [
      "Loaded all data from zip file\n"
     ]
    }
   ],
   "source": [
    "# Load data from the zip file using the new utility function\n",
    "from meshoptimizer.ziputils import load_combined_data_from_zip\n",
    "\n",
    "try:\n",
    "    # Load all data at once\n",
    "    loaded_encoded_mesh, loaded_encoded_arrays, loaded_metadata = load_combined_data_from_zip(zip_path)\n",
    "    print(\"Loaded all data from zip file\")\n",
    "except Exception as e:\n",
    "    print(f\"Error loading data: {str(e)}\")"
   ]
  },
  {
   "cell_type": "markdown",
   "metadata": {},
   "source": [
    "Now let's reconstruct the mesh:"
   ]
  },
  {
   "cell_type": "code",
   "execution_count": 7,
   "metadata": {},
   "outputs": [
    {
     "name": "stdout",
     "output_type": "stream",
     "text": [
      "Decoded mesh with 8 vertices and 36 indices\n"
     ]
    }
   ],
   "source": [
    "# Decode the mesh\n",
    "loaded_positions, loaded_indices = decode_mesh(loaded_encoded_mesh)\n",
    "print(f\"Decoded mesh with {len(loaded_positions)} vertices and {len(loaded_indices)} indices\")"
   ]
  },
  {
   "cell_type": "markdown",
   "metadata": {},
   "source": [
    "Now let's reconstruct the arrays:"
   ]
  },
  {
   "cell_type": "code",
   "execution_count": 8,
   "metadata": {},
   "outputs": [
    {
     "name": "stdout",
     "output_type": "stream",
     "text": [
      "Decoded normals shape: (8, 3)\n",
      "Decoded colors shape: (8, 4)\n",
      "Decoded texcoords shape: (8, 2)\n",
      "Decoded bone weights shape: (8, 4)\n"
     ]
    }
   ],
   "source": [
    "# Decode the arrays\n",
    "loaded_normals = decode_array(loaded_encoded_arrays[\"normals\"])\n",
    "loaded_colors = decode_array(loaded_encoded_arrays[\"colors\"])\n",
    "loaded_texcoords = decode_array(loaded_encoded_arrays[\"texcoords\"])\n",
    "loaded_bone_weights = decode_array(loaded_encoded_arrays[\"bone_weights\"])\n",
    "\n",
    "print(f\"Decoded normals shape: {loaded_normals.shape}\")\n",
    "print(f\"Decoded colors shape: {loaded_colors.shape}\")\n",
    "print(f\"Decoded texcoords shape: {loaded_texcoords.shape}\")\n",
    "print(f\"Decoded bone weights shape: {loaded_bone_weights.shape}\")"
   ]
  },
  {
   "cell_type": "markdown",
   "metadata": {},
   "source": [
    "## Verifying the Data\n",
    "\n",
    "Let's verify that the loaded data matches the original data:"
   ]
  },
  {
   "cell_type": "code",
   "execution_count": 9,
   "metadata": {},
   "outputs": [
    {
     "name": "stdout",
     "output_type": "stream",
     "text": [
      "Positions match: True\n",
      "Indices match: False\n",
      "Normals match: True\n",
      "Colors match: True\n",
      "Texture coordinates match: True\n",
      "Bone weights match: True\n",
      "Metadata match: True\n"
     ]
    }
   ],
   "source": [
    "# Verify mesh data\n",
    "positions_match = np.allclose(loaded_positions, positions, rtol=1e-5)\n",
    "indices_match = np.array_equal(loaded_indices, indices)\n",
    "print(f\"Positions match: {positions_match}\")\n",
    "print(f\"Indices match: {indices_match}\")\n",
    "\n",
    "# Verify array data\n",
    "normals_match = np.allclose(loaded_normals, normals, rtol=1e-5)\n",
    "colors_match = np.allclose(loaded_colors, colors, rtol=1e-5)\n",
    "texcoords_match = np.allclose(loaded_texcoords, texcoords, rtol=1e-5)\n",
    "bone_weights_match = np.allclose(loaded_bone_weights, bone_weights, rtol=1e-5)\n",
    "print(f\"Normals match: {normals_match}\")\n",
    "print(f\"Colors match: {colors_match}\")\n",
    "print(f\"Texture coordinates match: {texcoords_match}\")\n",
    "print(f\"Bone weights match: {bone_weights_match}\")\n",
    "\n",
    "# Verify metadata\n",
    "metadata_match = loaded_metadata == metadata\n",
    "print(f\"Metadata match: {metadata_match}\")"
   ]
  },
  {
   "cell_type": "markdown",
   "metadata": {},
   "source": [
    "## Cleaning Up\n",
    "\n",
    "Let's clean up the files we created:"
   ]
  },
  {
   "cell_type": "code",
   "execution_count": null,
   "metadata": {},
   "outputs": [],
   "source": [
    "# Clean up\n",
    "if os.path.exists(zip_path):\n",
    "    os.remove(zip_path)\n",
    "    print(f\"Removed {zip_path}\")\n",
    "\n",
    "print(\"\\nExample completed successfully!\")"
   ]
  }
 ],
 "metadata": {
  "kernelspec": {
   "display_name": "Python 3",
   "language": "python",
   "name": "python3"
  },
  "language_info": {
   "codemirror_mode": {
    "name": "ipython",
    "version": 3
   },
   "file_extension": ".py",
   "mimetype": "text/x-python",
   "name": "python",
   "nbconvert_exporter": "python",
   "pygments_lexer": "ipython3",
   "version": "3.12.8"
  }
 },
 "nbformat": 4,
 "nbformat_minor": 4
}
