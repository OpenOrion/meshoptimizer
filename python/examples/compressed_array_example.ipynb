{
 "cells": [
  {
   "cell_type": "markdown",
   "metadata": {},
   "source": [
    "# Compressed Array Example\n",
    "\n",
    "This notebook demonstrates how to use the array utilities for compressing numpy arrays.\n",
    "\n",
    "We'll cover:\n",
    "1. Creating numpy arrays of different shapes and types\n",
    "2. Compressing the arrays using meshoptimizer's encoding\n",
    "3. Saving the compressed arrays to files and zip archives\n",
    "4. Loading the compressed arrays from files and zip archives\n",
    "5. Working with multiple arrays in a single zip file"
   ]
  },
  {
   "cell_type": "code",
   "execution_count": 1,
   "metadata": {},
   "outputs": [],
   "source": [
    "import os\n",
    "import numpy as np\n",
    "from meshoptimizer import (\n",
    "    encode_array,\n",
    "    decode_array,\n",
    "    save_array_to_file,\n",
    "    load_array_from_file,\n",
    "    save_array_to_zip,\n",
    "    load_array_from_zip,\n",
    "    save_arrays_to_zip,\n",
    "    load_arrays_from_zip\n",
    ")"
   ]
  },
  {
   "cell_type": "markdown",
   "metadata": {},
   "source": [
    "## Creating Example Arrays\n",
    "\n",
    "Let's create some example arrays of different shapes and types:"
   ]
  },
  {
   "cell_type": "code",
   "execution_count": 2,
   "metadata": {},
   "outputs": [
    {
     "name": "stdout",
     "output_type": "stream",
     "text": [
      "1D array: shape=(1000,), dtype=float32, size=4000 bytes\n",
      "2D array: shape=(1000, 3), dtype=float32, size=12000 bytes\n",
      "3D array: shape=(20, 20, 20), dtype=float32, size=32000 bytes\n",
      "Integer array: shape=(100, 100), dtype=int32, size=40000 bytes\n"
     ]
    }
   ],
   "source": [
    "# 1D array of float32 values\n",
    "array_1d = np.linspace(0, 10, 1000, dtype=np.float32)\n",
    "print(f\"1D array: shape={array_1d.shape}, dtype={array_1d.dtype}, size={array_1d.nbytes} bytes\")\n",
    "\n",
    "# 2D array of float32 values (e.g., vertex positions)\n",
    "array_2d = np.random.random((1000, 3)).astype(np.float32)\n",
    "print(f\"2D array: shape={array_2d.shape}, dtype={array_2d.dtype}, size={array_2d.nbytes} bytes\")\n",
    "\n",
    "# 3D array of float32 values (e.g., voxel data)\n",
    "array_3d = np.random.random((20, 20, 20)).astype(np.float32)\n",
    "print(f\"3D array: shape={array_3d.shape}, dtype={array_3d.dtype}, size={array_3d.nbytes} bytes\")\n",
    "\n",
    "# 2D array of int32 values\n",
    "array_int = np.random.randint(0, 100, (100, 100), dtype=np.int32)\n",
    "print(f\"Integer array: shape={array_int.shape}, dtype={array_int.dtype}, size={array_int.nbytes} bytes\")"
   ]
  },
  {
   "cell_type": "markdown",
   "metadata": {},
   "source": [
    "## Example 1: Basic Encoding and Decoding\n",
    "\n",
    "Let's encode and decode a 2D array:"
   ]
  },
  {
   "cell_type": "code",
   "execution_count": 3,
   "metadata": {},
   "outputs": [
    {
     "name": "stdout",
     "output_type": "stream",
     "text": [
      "Encoded size: 10414 bytes\n",
      "Compression ratio: 0.87\n",
      "Decoded array: shape=(1000, 3), dtype=float32\n",
      "Decoded array matches original: True\n"
     ]
    }
   ],
   "source": [
    "# Encode the 2D array\n",
    "encoded_array = encode_array(array_2d)\n",
    "print(f\"Encoded size: {len(encoded_array.data)} bytes\")\n",
    "print(f\"Compression ratio: {len(encoded_array.data) / array_2d.nbytes:.2f}\")\n",
    "\n",
    "# Decode the array\n",
    "decoded_array = decode_array(encoded_array)\n",
    "print(f\"Decoded array: shape={decoded_array.shape}, dtype={decoded_array.dtype}\")\n",
    "\n",
    "# Verify the decoded array matches the original\n",
    "is_close = np.allclose(decoded_array, array_2d, rtol=1e-5)\n",
    "print(f\"Decoded array matches original: {is_close}\")"
   ]
  },
  {
   "cell_type": "markdown",
   "metadata": {},
   "source": [
    "## Example 2: Saving and Loading from a File\n",
    "\n",
    "Now let's save the array to a file and load it back:"
   ]
  },
  {
   "cell_type": "code",
   "execution_count": 4,
   "metadata": {},
   "outputs": [
    {
     "name": "stdout",
     "output_type": "stream",
     "text": [
      "Saved to file: compressed_array.bin\n",
      "File size: 10473 bytes\n",
      "Compression ratio: 0.87\n",
      "Loaded array: shape=(1000, 3), dtype=float32\n",
      "Loaded array matches original: True\n"
     ]
    }
   ],
   "source": [
    "# Save the array to a file\n",
    "file_path = \"compressed_array.bin\"\n",
    "save_array_to_file(array_2d, file_path)\n",
    "print(f\"Saved to file: {file_path}\")\n",
    "print(f\"File size: {os.path.getsize(file_path)} bytes\")\n",
    "print(f\"Compression ratio: {os.path.getsize(file_path) / array_2d.nbytes:.2f}\")\n",
    "\n",
    "# Load the array from the file\n",
    "loaded_array = load_array_from_file(file_path)\n",
    "print(f\"Loaded array: shape={loaded_array.shape}, dtype={loaded_array.dtype}\")\n",
    "\n",
    "# Verify the loaded array matches the original\n",
    "is_close = np.allclose(loaded_array, array_2d, rtol=1e-5)\n",
    "print(f\"Loaded array matches original: {is_close}\")"
   ]
  },
  {
   "cell_type": "markdown",
   "metadata": {},
   "source": [
    "## Example 3: Saving and Loading from a Zip File\n",
    "\n",
    "Let's save the array to a zip file and load it back:"
   ]
  },
  {
   "cell_type": "code",
   "execution_count": 5,
   "metadata": {},
   "outputs": [
    {
     "name": "stdout",
     "output_type": "stream",
     "text": [
      "Saved to zip file: compressed_array.zip\n",
      "Zip file size: 10604 bytes\n",
      "Compression ratio: 0.88\n",
      "Loaded array: shape=(1000, 3), dtype=float32\n",
      "Loaded array matches original: True\n"
     ]
    }
   ],
   "source": [
    "# Save the array to a zip file\n",
    "zip_path = \"compressed_array.zip\"\n",
    "save_array_to_zip(array_2d, zip_path)\n",
    "print(f\"Saved to zip file: {zip_path}\")\n",
    "print(f\"Zip file size: {os.path.getsize(zip_path)} bytes\")\n",
    "print(f\"Compression ratio: {os.path.getsize(zip_path) / array_2d.nbytes:.2f}\")\n",
    "\n",
    "# Load the array from the zip file\n",
    "loaded_array = load_array_from_zip(zip_path)\n",
    "print(f\"Loaded array: shape={loaded_array.shape}, dtype={loaded_array.dtype}\")\n",
    "\n",
    "# Verify the loaded array matches the original\n",
    "is_close = np.allclose(loaded_array, array_2d, rtol=1e-5)\n",
    "print(f\"Loaded array matches original: {is_close}\")"
   ]
  },
  {
   "cell_type": "markdown",
   "metadata": {},
   "source": [
    "## Example 4: Working with Multiple Arrays\n",
    "\n",
    "Let's save multiple arrays to a single zip file and load them back:"
   ]
  },
  {
   "cell_type": "code",
   "execution_count": 6,
   "metadata": {},
   "outputs": [
    {
     "name": "stdout",
     "output_type": "stream",
     "text": [
      "Saved multiple arrays to zip file: multiple_arrays.zip\n",
      "Total size of all arrays: 88000 bytes\n",
      "Zip file size: 50988 bytes\n",
      "Compression ratio: 0.58\n",
      "Loaded 4 arrays from zip file\n",
      "Array 'array_1d' matches original: True\n",
      "Array 'array_2d' matches original: True\n",
      "Array 'array_3d' matches original: True\n",
      "Array 'array_int' matches original: True\n"
     ]
    }
   ],
   "source": [
    "# Create a dictionary of arrays\n",
    "arrays = {\n",
    "    \"array_1d\": array_1d,\n",
    "    \"array_2d\": array_2d,\n",
    "    \"array_3d\": array_3d,\n",
    "    \"array_int\": array_int\n",
    "}\n",
    "\n",
    "# Save all arrays to a single zip file\n",
    "multi_zip_path = \"multiple_arrays.zip\"\n",
    "save_arrays_to_zip(arrays, multi_zip_path)\n",
    "print(f\"Saved multiple arrays to zip file: {multi_zip_path}\")\n",
    "\n",
    "# Calculate total size of all arrays\n",
    "total_size = sum(array.nbytes for array in arrays.values())\n",
    "print(f\"Total size of all arrays: {total_size} bytes\")\n",
    "print(f\"Zip file size: {os.path.getsize(multi_zip_path)} bytes\")\n",
    "print(f\"Compression ratio: {os.path.getsize(multi_zip_path) / total_size:.2f}\")\n",
    "\n",
    "# Load all arrays from the zip file\n",
    "loaded_arrays = load_arrays_from_zip(multi_zip_path)\n",
    "print(f\"Loaded {len(loaded_arrays)} arrays from zip file\")\n",
    "\n",
    "# Verify each loaded array matches the original\n",
    "for name, array in arrays.items():\n",
    "    is_close = np.allclose(loaded_arrays[name], array, rtol=1e-5)\n",
    "    print(f\"Array '{name}' matches original: {is_close}\")"
   ]
  },
  {
   "cell_type": "markdown",
   "metadata": {},
   "source": [
    "## Cleaning Up\n",
    "\n",
    "Let's clean up the files we created:"
   ]
  },
  {
   "cell_type": "code",
   "execution_count": 7,
   "metadata": {},
   "outputs": [
    {
     "name": "stdout",
     "output_type": "stream",
     "text": [
      "Removed compressed_array.bin\n",
      "Removed compressed_array.zip\n",
      "Removed multiple_arrays.zip\n",
      "\n",
      "Example completed successfully!\n"
     ]
    }
   ],
   "source": [
    "# Clean up\n",
    "for path in [file_path, zip_path, multi_zip_path]:\n",
    "    if os.path.exists(path):\n",
    "        os.remove(path)\n",
    "        print(f\"Removed {path}\")\n",
    "\n",
    "print(\"\\nExample completed successfully!\")"
   ]
  }
 ],
 "metadata": {
  "kernelspec": {
   "display_name": "Python 3",
   "language": "python",
   "name": "python3"
  },
  "language_info": {
   "codemirror_mode": {
    "name": "ipython",
    "version": 3
   },
   "file_extension": ".py",
   "mimetype": "text/x-python",
   "name": "python",
   "nbconvert_exporter": "python",
   "pygments_lexer": "ipython3",
   "version": "3.12.8"
  }
 },
 "nbformat": 4,
 "nbformat_minor": 4
}
