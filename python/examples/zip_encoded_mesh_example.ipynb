{
 "cells": [
  {
   "cell_type": "markdown",
   "metadata": {},
   "source": [
    "# Zip Encoded Mesh Example\n",
    "\n",
    "This notebook demonstrates how to use the zip utilities for encoded meshes.\n",
    "\n",
    "We'll cover:\n",
    "1. Creating a simple mesh\n",
    "2. Encoding the mesh\n",
    "3. Saving the encoded mesh to a zip file\n",
    "4. Loading the encoded mesh from the zip file\n",
    "5. Decoding the loaded mesh"
   ]
  },
  {
   "cell_type": "code",
   "execution_count": 1,
   "metadata": {},
   "outputs": [],
   "source": [
    "import os\n",
    "import numpy as np\n",
    "from meshoptimizer import (\n",
    "    Mesh, \n",
    "    encode_mesh, \n",
    "    decode_mesh,\n",
    "    save_encoded_mesh_to_zip, \n",
    "    load_encoded_mesh_from_zip,\n",
    "    save_mesh_to_zip,\n",
    "    load_mesh_from_zip\n",
    ")"
   ]
  },
  {
   "cell_type": "markdown",
   "metadata": {},
   "source": [
    "## Creating a Simple Mesh\n",
    "\n",
    "Let's create a simple cube mesh:"
   ]
  },
  {
   "cell_type": "code",
   "execution_count": 2,
   "metadata": {},
   "outputs": [
    {
     "name": "stdout",
     "output_type": "stream",
     "text": [
      "Created mesh with 8 vertices and 36 indices\n"
     ]
    }
   ],
   "source": [
    "# Create a simple mesh (a cube)\n",
    "vertices = np.array([\n",
    "    # positions          \n",
    "    [-0.5, -0.5, -0.5],\n",
    "    [0.5, -0.5, -0.5],\n",
    "    [0.5, 0.5, -0.5],\n",
    "    [-0.5, 0.5, -0.5],\n",
    "    [-0.5, -0.5, 0.5],\n",
    "    [0.5, -0.5, 0.5],\n",
    "    [0.5, 0.5, 0.5],\n",
    "    [-0.5, 0.5, 0.5]\n",
    "], dtype=np.float32)\n",
    "\n",
    "indices = np.array([\n",
    "    0, 1, 2, 2, 3, 0,  # front\n",
    "    1, 5, 6, 6, 2, 1,  # right\n",
    "    5, 4, 7, 7, 6, 5,  # back\n",
    "    4, 0, 3, 3, 7, 4,  # left\n",
    "    3, 2, 6, 6, 7, 3,  # top\n",
    "    4, 5, 1, 1, 0, 4   # bottom\n",
    "], dtype=np.uint32)\n",
    "\n",
    "# Create a Mesh object\n",
    "mesh = Mesh(vertices, indices)\n",
    "print(f\"Created mesh with {len(vertices)} vertices and {len(indices)} indices\")"
   ]
  },
  {
   "cell_type": "markdown",
   "metadata": {},
   "source": [
    "## Method 1: Using encode_mesh and save_encoded_mesh_to_zip\n",
    "\n",
    "First, let's encode the mesh and save it to a zip file:"
   ]
  },
  {
   "cell_type": "code",
   "execution_count": 3,
   "metadata": {},
   "outputs": [
    {
     "name": "stdout",
     "output_type": "stream",
     "text": [
      "Encoded mesh: vertex buffer size = 65 bytes, index buffer size = 37 bytes\n",
      "Saved encoded mesh to encoded_mesh.zip\n"
     ]
    }
   ],
   "source": [
    "# Encode the mesh\n",
    "encoded_mesh = encode_mesh(vertices, indices)\n",
    "print(f\"Encoded mesh: vertex buffer size = {len(encoded_mesh.vertices)} bytes, \"\n",
    "      f\"index buffer size = {len(encoded_mesh.indices)} bytes\")\n",
    "\n",
    "# Save the encoded mesh to a zip file\n",
    "zip_path1 = \"encoded_mesh.zip\"\n",
    "save_encoded_mesh_to_zip(encoded_mesh, zip_path1)\n",
    "print(f\"Saved encoded mesh to {zip_path1}\")"
   ]
  },
  {
   "cell_type": "markdown",
   "metadata": {},
   "source": [
    "Now let's load the encoded mesh from the zip file and decode it:"
   ]
  },
  {
   "cell_type": "code",
   "execution_count": 4,
   "metadata": {},
   "outputs": [
    {
     "name": "stdout",
     "output_type": "stream",
     "text": [
      "Loaded encoded mesh from encoded_mesh.zip\n",
      "Loaded encoded mesh: vertex buffer size = 65 bytes, index buffer size = 37 bytes\n",
      "Decoded mesh with 8 vertices and 36 indices\n"
     ]
    }
   ],
   "source": [
    "# Load the encoded mesh from the zip file\n",
    "loaded_encoded_mesh = load_encoded_mesh_from_zip(zip_path1)\n",
    "print(f\"Loaded encoded mesh from {zip_path1}\")\n",
    "print(f\"Loaded encoded mesh: vertex buffer size = {len(loaded_encoded_mesh.vertices)} bytes, \"\n",
    "      f\"index buffer size = {len(loaded_encoded_mesh.indices)} bytes\")\n",
    "\n",
    "# Decode the loaded encoded mesh\n",
    "decoded_vertices, decoded_indices = decode_mesh(loaded_encoded_mesh)\n",
    "print(f\"Decoded mesh with {len(decoded_vertices)} vertices and {len(decoded_indices)} indices\")"
   ]
  },
  {
   "cell_type": "markdown",
   "metadata": {},
   "source": [
    "## Method 2: Using save_mesh_to_zip and load_mesh_from_zip\n",
    "\n",
    "Now let's use the higher-level functions to save and load the mesh directly:"
   ]
  },
  {
   "cell_type": "code",
   "execution_count": 5,
   "metadata": {},
   "outputs": [
    {
     "name": "stdout",
     "output_type": "stream",
     "text": [
      "Saved mesh to mesh.zip\n",
      "Loaded mesh from mesh.zip\n",
      "Loaded mesh with 8 vertices and 36 indices\n"
     ]
    }
   ],
   "source": [
    "# Save the mesh directly to a zip file\n",
    "zip_path2 = \"mesh.zip\"\n",
    "save_mesh_to_zip(mesh, zip_path2)\n",
    "print(f\"Saved mesh to {zip_path2}\")\n",
    "\n",
    "# Load the mesh from the zip file\n",
    "loaded_mesh = load_mesh_from_zip(Mesh, zip_path2)\n",
    "print(f\"Loaded mesh from {zip_path2}\")\n",
    "print(f\"Loaded mesh with {len(loaded_mesh.vertices)} vertices and {len(loaded_mesh.indices)} indices\")"
   ]
  },
  {
   "cell_type": "markdown",
   "metadata": {},
   "source": [
    "## Method 3: Using Custom Filenames\n",
    "\n",
    "Finally, let's save the encoded mesh with custom filenames:"
   ]
  },
  {
   "cell_type": "code",
   "execution_count": 6,
   "metadata": {},
   "outputs": [
    {
     "name": "stdout",
     "output_type": "stream",
     "text": [
      "Saved encoded mesh to custom_encoded_mesh.zip with custom filenames\n",
      "Loaded encoded mesh from custom_encoded_mesh.zip with custom filenames\n"
     ]
    }
   ],
   "source": [
    "# Save the encoded mesh to a zip file with custom filenames\n",
    "zip_path3 = \"custom_encoded_mesh.zip\"\n",
    "save_encoded_mesh_to_zip(\n",
    "    encoded_mesh, \n",
    "    zip_path3, \n",
    "    vertices_filename=\"verts.bin\",\n",
    "    indices_filename=\"idx.bin\",\n",
    "    metadata_filename=\"meta.json\"\n",
    ")\n",
    "print(f\"Saved encoded mesh to {zip_path3} with custom filenames\")\n",
    "\n",
    "# Load the encoded mesh from the zip file with custom filenames\n",
    "loaded_custom_encoded_mesh = load_encoded_mesh_from_zip(\n",
    "    zip_path3, \n",
    "    vertices_filename=\"verts.bin\",\n",
    "    indices_filename=\"idx.bin\",\n",
    "    metadata_filename=\"meta.json\"\n",
    ")\n",
    "print(f\"Loaded encoded mesh from {zip_path3} with custom filenames\")"
   ]
  },
  {
   "cell_type": "markdown",
   "metadata": {},
   "source": [
    "## Cleaning Up\n",
    "\n",
    "Let's clean up the files we created:"
   ]
  },
  {
   "cell_type": "code",
   "execution_count": 7,
   "metadata": {},
   "outputs": [
    {
     "name": "stdout",
     "output_type": "stream",
     "text": [
      "Removed encoded_mesh.zip\n",
      "Removed mesh.zip\n",
      "Removed custom_encoded_mesh.zip\n",
      "\n",
      "Example completed successfully!\n"
     ]
    }
   ],
   "source": [
    "# Clean up\n",
    "for path in [zip_path1, zip_path2, zip_path3]:\n",
    "    if os.path.exists(path):\n",
    "        os.remove(path)\n",
    "        print(f\"Removed {path}\")\n",
    "\n",
    "print(\"\\nExample completed successfully!\")"
   ]
  }
 ],
 "metadata": {
  "kernelspec": {
   "display_name": "Python 3",
   "language": "python",
   "name": "python3"
  },
  "language_info": {
   "codemirror_mode": {
    "name": "ipython",
    "version": 3
   },
   "file_extension": ".py",
   "mimetype": "text/x-python",
   "name": "python",
   "nbconvert_exporter": "python",
   "pygments_lexer": "ipython3",
   "version": "3.12.8"
  }
 },
 "nbformat": 4,
 "nbformat_minor": 4
}
